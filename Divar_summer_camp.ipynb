{
  "nbformat": 4,
  "nbformat_minor": 0,
  "metadata": {
    "colab": {
      "name": "Divar_summer_camp.ipynb",
      "provenance": [],
      "collapsed_sections": [
        "WEuIjvnCRr0p"
      ],
      "mount_file_id": "1TJP58YFN6WvwdW4Dp93toxTbyBlS_xqf",
      "authorship_tag": "ABX9TyNJcxORqgLAjuMiVhOPwdoQ",
      "include_colab_link": true
    },
    "kernelspec": {
      "name": "python3",
      "display_name": "Python 3"
    },
    "language_info": {
      "name": "python"
    }
  },
  "cells": [
    {
      "cell_type": "markdown",
      "metadata": {
        "id": "view-in-github",
        "colab_type": "text"
      },
      "source": [
        "<a href=\"https://colab.research.google.com/github/Sedighe-Raeisi/Divar_Summer_Camp/blob/main/Divar_summer_camp.ipynb\" target=\"_parent\"><img src=\"https://colab.research.google.com/assets/colab-badge.svg\" alt=\"Open In Colab\"/></a>"
      ]
    },
    {
      "cell_type": "code",
      "metadata": {
        "id": "jxj9v7oSk9Xd"
      },
      "source": [
        "import pandas as pd\n",
        "import numpy  as np\n",
        "import matplotlib.pyplot as plt\n",
        "import seaborn as sns\n"
      ],
      "execution_count": null,
      "outputs": []
    },
    {
      "cell_type": "code",
      "metadata": {
        "id": "AXk_A-J7lPku"
      },
      "source": [
        "# df=pd.read_excel('/content/drive/MyDrive/MachineLearing/Untitled Folder/Summer Camp Task Data.xlsx',sheet_name='Summer Camp Task Data')\n",
        "# df.to_csv (r'/content/drive/MyDrive/MachineLearing/Untitled Folder/Data.csv', index = None, header=True)"
      ],
      "execution_count": null,
      "outputs": []
    },
    {
      "cell_type": "code",
      "metadata": {
        "id": "92pj0Z6QGgaG"
      },
      "source": [
        "path='/content/drive/MyDrive/MachineLearing/Untitled Folder/Data.csv'"
      ],
      "execution_count": null,
      "outputs": []
    },
    {
      "cell_type": "code",
      "metadata": {
        "id": "Rut9hF7LlYnt"
      },
      "source": [
        "df=pd.read_csv(path)"
      ],
      "execution_count": null,
      "outputs": []
    },
    {
      "cell_type": "code",
      "metadata": {
        "colab": {
          "base_uri": "https://localhost:8080/"
        },
        "id": "aLZuxGOwlht9",
        "outputId": "a02d315b-deb7-44d5-d786-302821ba418a"
      },
      "source": [
        "df.shape"
      ],
      "execution_count": null,
      "outputs": [
        {
          "output_type": "execute_result",
          "data": {
            "text/plain": [
              "(111083, 8)"
            ]
          },
          "metadata": {
            "tags": []
          },
          "execution_count": 4
        }
      ]
    },
    {
      "cell_type": "code",
      "metadata": {
        "colab": {
          "base_uri": "https://localhost:8080/"
        },
        "id": "B4YZJojHltO_",
        "outputId": "47861be6-1206-499e-ac1f-7ea421f7d0b1"
      },
      "source": [
        "df.info()"
      ],
      "execution_count": null,
      "outputs": [
        {
          "output_type": "stream",
          "text": [
            "<class 'pandas.core.frame.DataFrame'>\n",
            "RangeIndex: 111083 entries, 0 to 111082\n",
            "Data columns (total 8 columns):\n",
            " #   Column                   Non-Null Count   Dtype  \n",
            "---  ------                   --------------   -----  \n",
            " 0   action                   111083 non-null  object \n",
            " 1   created_at               111083 non-null  int64  \n",
            " 2   source_event_id          111083 non-null  object \n",
            " 3   device_id                109596 non-null  object \n",
            " 4   post_page_offset         35287 non-null   float64\n",
            " 5   tokens                   35287 non-null   object \n",
            " 6   post_index_in_post_list  75796 non-null   float64\n",
            " 7   post_token               75795 non-null   object \n",
            "dtypes: float64(2), int64(1), object(5)\n",
            "memory usage: 6.8+ MB\n"
          ],
          "name": "stdout"
        }
      ]
    },
    {
      "cell_type": "code",
      "metadata": {
        "colab": {
          "base_uri": "https://localhost:8080/"
        },
        "id": "BMsCmK-Qlyeq",
        "outputId": "a2588e02-874c-4ec6-98b7-dc059016b44c"
      },
      "source": [
        "df.isnull().sum()"
      ],
      "execution_count": null,
      "outputs": [
        {
          "output_type": "execute_result",
          "data": {
            "text/plain": [
              "action                         0\n",
              "created_at                     0\n",
              "source_event_id                0\n",
              "device_id                   1487\n",
              "post_page_offset           75796\n",
              "tokens                     75796\n",
              "post_index_in_post_list    35287\n",
              "post_token                 35288\n",
              "dtype: int64"
            ]
          },
          "metadata": {
            "tags": []
          },
          "execution_count": 9
        }
      ]
    },
    {
      "cell_type": "markdown",
      "metadata": {
        "id": "HIrEYAK8Hx5c"
      },
      "source": [
        "# Problem 1:"
      ]
    },
    {
      "cell_type": "markdown",
      "metadata": {
        "id": "cyFi2SvmGKyw"
      },
      "source": [
        "##1st mistake in dataframe:"
      ]
    },
    {
      "cell_type": "code",
      "metadata": {
        "colab": {
          "base_uri": "https://localhost:8080/"
        },
        "id": "yE1GnIUOGZ4l",
        "outputId": "ddc3ed44-c21e-4040-940a-ff6a15b4d3f4"
      },
      "source": [
        "df['post_page_offset'][df['action']=='load_post_page'].head()"
      ],
      "execution_count": null,
      "outputs": [
        {
          "output_type": "execute_result",
          "data": {
            "text/plain": [
              "0    26.0\n",
              "1    19.0\n",
              "2     0.0\n",
              "3     0.0\n",
              "4     1.0\n",
              "Name: post_page_offset, dtype: float64"
            ]
          },
          "metadata": {
            "tags": []
          },
          "execution_count": 5
        }
      ]
    },
    {
      "cell_type": "markdown",
      "metadata": {
        "id": "T_L_dclSmVl3"
      },
      "source": [
        "##2nd mistake in dataframe:"
      ]
    },
    {
      "cell_type": "code",
      "metadata": {
        "colab": {
          "base_uri": "https://localhost:8080/"
        },
        "id": "LxOoJIHOHeYA",
        "outputId": "113bcf1d-f2c3-483a-fbe7-72fb41b616d4"
      },
      "source": [
        "df['device_id'].isnull().sum()"
      ],
      "execution_count": null,
      "outputs": [
        {
          "output_type": "execute_result",
          "data": {
            "text/plain": [
              "1487"
            ]
          },
          "metadata": {
            "tags": []
          },
          "execution_count": 12
        }
      ]
    },
    {
      "cell_type": "markdown",
      "metadata": {
        "id": "JNSUCqWBl9Ve"
      },
      "source": [
        "Device id shouldn't be null value. it seems some of them are missed"
      ]
    },
    {
      "cell_type": "markdown",
      "metadata": {
        "id": "Z_B0uo8rma6q"
      },
      "source": [
        "##3rd mistake in dataframe:"
      ]
    },
    {
      "cell_type": "code",
      "metadata": {
        "colab": {
          "base_uri": "https://localhost:8080/"
        },
        "id": "mpK4z_M5maUl",
        "outputId": "47d86e5b-125f-4437-8102-3cbd5974b236"
      },
      "source": [
        "df[df['action']=='click_post'].isnull().sum()"
      ],
      "execution_count": null,
      "outputs": [
        {
          "output_type": "execute_result",
          "data": {
            "text/plain": [
              "action                         0\n",
              "created_at                     0\n",
              "source_event_id                0\n",
              "device_id                    978\n",
              "post_page_offset           75796\n",
              "tokens                     75796\n",
              "post_index_in_post_list        0\n",
              "post_token                     1\n",
              "dtype: int64"
            ]
          },
          "metadata": {
            "tags": []
          },
          "execution_count": 10
        }
      ]
    },
    {
      "cell_type": "markdown",
      "metadata": {
        "id": "QYYvpThXnBcg"
      },
      "source": [
        "As you see one of the post_token is missed when the action is click"
      ]
    },
    {
      "cell_type": "code",
      "metadata": {
        "colab": {
          "base_uri": "https://localhost:8080/"
        },
        "id": "lYYhSiKsIacm",
        "outputId": "4548c795-9f95-4e20-9f4c-d2127520c1ad"
      },
      "source": [
        "df['post_token'][df['action']=='click_post'].isnull().sum()"
      ],
      "execution_count": null,
      "outputs": [
        {
          "output_type": "execute_result",
          "data": {
            "text/plain": [
              "1"
            ]
          },
          "metadata": {
            "tags": []
          },
          "execution_count": 13
        }
      ]
    },
    {
      "cell_type": "markdown",
      "metadata": {
        "id": "6EvjFAOTI1HS"
      },
      "source": [
        "##4th mistake in dataframe: "
      ]
    },
    {
      "cell_type": "code",
      "metadata": {
        "colab": {
          "base_uri": "https://localhost:8080/",
          "height": 235
        },
        "id": "eHMVjPPTPPFn",
        "outputId": "d01f71a5-853f-453a-99b4-f2c1f90c8388"
      },
      "source": [
        "mis_4=pd.crosstab(df['source_event_id'],df['action'])\n",
        "mis_4.head()"
      ],
      "execution_count": null,
      "outputs": [
        {
          "output_type": "execute_result",
          "data": {
            "text/html": [
              "<div>\n",
              "<style scoped>\n",
              "    .dataframe tbody tr th:only-of-type {\n",
              "        vertical-align: middle;\n",
              "    }\n",
              "\n",
              "    .dataframe tbody tr th {\n",
              "        vertical-align: top;\n",
              "    }\n",
              "\n",
              "    .dataframe thead th {\n",
              "        text-align: right;\n",
              "    }\n",
              "</style>\n",
              "<table border=\"1\" class=\"dataframe\">\n",
              "  <thead>\n",
              "    <tr style=\"text-align: right;\">\n",
              "      <th>action</th>\n",
              "      <th>click_post</th>\n",
              "      <th>load_post_page</th>\n",
              "    </tr>\n",
              "    <tr>\n",
              "      <th>source_event_id</th>\n",
              "      <th></th>\n",
              "      <th></th>\n",
              "    </tr>\n",
              "  </thead>\n",
              "  <tbody>\n",
              "    <tr>\n",
              "      <th>00049ef3-c027-4f55-869c-46711f0ea0ad</th>\n",
              "      <td>0</td>\n",
              "      <td>1</td>\n",
              "    </tr>\n",
              "    <tr>\n",
              "      <th>00069dda-4175-4bb0-8ef0-c0e1031d4da6</th>\n",
              "      <td>0</td>\n",
              "      <td>1</td>\n",
              "    </tr>\n",
              "    <tr>\n",
              "      <th>00142c59-745c-4004-a955-698ddcf1faa6</th>\n",
              "      <td>4</td>\n",
              "      <td>0</td>\n",
              "    </tr>\n",
              "    <tr>\n",
              "      <th>0016f59f-9fb3-4ab5-ae78-9783314b81fc</th>\n",
              "      <td>10</td>\n",
              "      <td>0</td>\n",
              "    </tr>\n",
              "    <tr>\n",
              "      <th>0017b9ef-5903-40f9-a219-85728eb78436</th>\n",
              "      <td>5</td>\n",
              "      <td>0</td>\n",
              "    </tr>\n",
              "  </tbody>\n",
              "</table>\n",
              "</div>"
            ],
            "text/plain": [
              "action                                click_post  load_post_page\n",
              "source_event_id                                                 \n",
              "00049ef3-c027-4f55-869c-46711f0ea0ad           0               1\n",
              "00069dda-4175-4bb0-8ef0-c0e1031d4da6           0               1\n",
              "00142c59-745c-4004-a955-698ddcf1faa6           4               0\n",
              "0016f59f-9fb3-4ab5-ae78-9783314b81fc          10               0\n",
              "0017b9ef-5903-40f9-a219-85728eb78436           5               0"
            ]
          },
          "metadata": {
            "tags": []
          },
          "execution_count": 20
        }
      ]
    },
    {
      "cell_type": "markdown",
      "metadata": {
        "id": "48TWFo-Psc-h"
      },
      "source": [
        "#Problem 2 part a:"
      ]
    },
    {
      "cell_type": "markdown",
      "metadata": {
        "id": "raQpT0QxRooj"
      },
      "source": [
        "### Solution_1"
      ]
    },
    {
      "cell_type": "code",
      "metadata": {
        "id": "JWlILYeSRvMU"
      },
      "source": [
        "df2=df[['source_event_id','tokens']][df['action']=='load_post_page'].copy()"
      ],
      "execution_count": null,
      "outputs": []
    },
    {
      "cell_type": "code",
      "metadata": {
        "id": "f_98ENgiR5YX"
      },
      "source": [
        "df2['result_count']=df2['tokens'].apply(lambda x: len((x).split()))"
      ],
      "execution_count": null,
      "outputs": []
    },
    {
      "cell_type": "code",
      "metadata": {
        "id": "9XQtd-kwR-d2"
      },
      "source": [
        "te=pd.DataFrame({'count' : df2.groupby( [ 'source_event_id'] )['result_count'].sum()}).reset_index()"
      ],
      "execution_count": null,
      "outputs": []
    },
    {
      "cell_type": "code",
      "metadata": {
        "id": "3LUZSDNISFbf"
      },
      "source": [
        "total_load_queries=total=te['count'].count()\n",
        "dark_queries=te['count'][te['count']<10].count()\n",
        "not_dark_queries=total_load_queries-dark_queries"
      ],
      "execution_count": null,
      "outputs": []
    },
    {
      "cell_type": "code",
      "metadata": {
        "colab": {
          "base_uri": "https://localhost:8080/",
          "height": 350
        },
        "id": "I6GQCkwxSbMu",
        "outputId": "bd329501-df07-4a80-d065-1cdd4c88cf95"
      },
      "source": [
        "plt.pie([not_dark_queries,dark_queries],labels=['not_dark_queries','dark_queries'],autopct='%1.1f%%')"
      ],
      "execution_count": null,
      "outputs": [
        {
          "output_type": "execute_result",
          "data": {
            "text/plain": [
              "([<matplotlib.patches.Wedge at 0x7f4851883210>,\n",
              "  <matplotlib.patches.Wedge at 0x7f48518839d0>],\n",
              " [Text(-1.0210801965437737, 0.4091396243657278, 'not_dark_queries'),\n",
              "  Text(1.0210801773905644, -0.40913967216594077, 'dark_queries')],\n",
              " [Text(-0.5569528344784219, 0.22316706783585152, '87.9%'),\n",
              "  Text(0.5569528240312169, -0.22316709390869494, '12.1%')])"
            ]
          },
          "metadata": {
            "tags": []
          },
          "execution_count": 24
        },
        {
          "output_type": "display_data",
          "data": {
            "image/png": "[encoded data removed]",
            "text/plain": [
              "<Figure size 432x288 with 1 Axes>"
            ]
          },
          "metadata": {
            "tags": []
          }
        }
      ]
    },
    {
      "cell_type": "code",
      "metadata": {
        "id": "IKcnWeH2wZcz"
      },
      "source": [
        "del(df2)"
      ],
      "execution_count": null,
      "outputs": []
    },
    {
      "cell_type": "markdown",
      "metadata": {
        "id": "WEuIjvnCRr0p"
      },
      "source": [
        "### solution_2"
      ]
    },
    {
      "cell_type": "code",
      "metadata": {
        "id": "FvsdQ7sEtwSg"
      },
      "source": [
        "df2=pd.DataFrame()\n",
        "df2=df.copy()"
      ],
      "execution_count": null,
      "outputs": []
    },
    {
      "cell_type": "code",
      "metadata": {
        "id": "GCcvDd1IEdJz"
      },
      "source": [
        "def f(x):\n",
        "  if x is np.nan:\n",
        "    return(0)\n",
        "  else: \n",
        "    return(len(x.split()))"
      ],
      "execution_count": null,
      "outputs": []
    },
    {
      "cell_type": "code",
      "metadata": {
        "id": "___arEf6th8w"
      },
      "source": [
        "df2['tokens_count']=df2['tokens'].dropna().apply(lambda x: f(x))"
      ],
      "execution_count": null,
      "outputs": []
    },
    {
      "cell_type": "code",
      "metadata": {
        "colab": {
          "base_uri": "https://localhost:8080/"
        },
        "id": "xzFCXLv0tDSI",
        "outputId": "4248c869-2f76-47c5-c3d4-805f47586142"
      },
      "source": [
        "df3=pd.DataFrame()\n",
        "df3=df2[df2['action']=='load_post_page']\n",
        "df3.isnull().sum()"
      ],
      "execution_count": null,
      "outputs": [
        {
          "output_type": "execute_result",
          "data": {
            "text/plain": [
              "action                         0\n",
              "created_at                     0\n",
              "source_event_id                0\n",
              "device_id                    509\n",
              "post_page_offset               0\n",
              "tokens                         0\n",
              "post_index_in_post_list    35287\n",
              "post_token                 35287\n",
              "tokens_count                   0\n",
              "dtype: int64"
            ]
          },
          "metadata": {
            "tags": []
          },
          "execution_count": 14
        }
      ]
    },
    {
      "cell_type": "code",
      "metadata": {
        "colab": {
          "base_uri": "https://localhost:8080/"
        },
        "id": "hYPzhPiwsoon",
        "outputId": "895472ef-ea81-47b7-8abb-990fbf42c170"
      },
      "source": [
        "j=0\n",
        "for i in range(len((df3.groupby('source_event_id',as_index=True)['tokens_count'].sum()))):\n",
        "  if (df3.groupby('source_event_id',as_index=True)['tokens_count'].sum())[i]<10:\n",
        "    j+=1\n",
        "print(j)"
      ],
      "execution_count": null,
      "outputs": [
        {
          "output_type": "stream",
          "text": [
            "1138\n"
          ],
          "name": "stdout"
        }
      ]
    },
    {
      "cell_type": "code",
      "metadata": {
        "id": "78-GKp9fuC8n"
      },
      "source": [
        "y=j\n",
        "z=len((df3.groupby('source_event_id',as_index=True)['tokens_count'].sum()))-y"
      ],
      "execution_count": null,
      "outputs": []
    },
    {
      "cell_type": "code",
      "metadata": {
        "colab": {
          "base_uri": "https://localhost:8080/"
        },
        "id": "BsAeE4smRAET",
        "outputId": "98b59b62-f8f9-4882-f918-14632f5e79fc"
      },
      "source": [
        "len((df3.groupby('source_event_id',as_index=True)['tokens_count'].sum()))"
      ],
      "execution_count": null,
      "outputs": [
        {
          "output_type": "execute_result",
          "data": {
            "text/plain": [
              "9381"
            ]
          },
          "metadata": {
            "tags": []
          },
          "execution_count": 18
        }
      ]
    },
    {
      "cell_type": "code",
      "metadata": {
        "colab": {
          "base_uri": "https://localhost:8080/"
        },
        "id": "hopfTsDGNZuI",
        "outputId": "a74f22cc-11cf-4491-dcdb-60945b59db96"
      },
      "source": [
        "z,y"
      ],
      "execution_count": null,
      "outputs": [
        {
          "output_type": "execute_result",
          "data": {
            "text/plain": [
              "(8179, 1202)"
            ]
          },
          "metadata": {
            "tags": []
          },
          "execution_count": 17
        }
      ]
    },
    {
      "cell_type": "code",
      "metadata": {
        "colab": {
          "base_uri": "https://localhost:8080/",
          "height": 350
        },
        "id": "iv4a1r6JuMCn",
        "outputId": "4b24fa66-7e4b-4e99-f3e6-a2981437e476"
      },
      "source": [
        "plt.pie([y,z], autopct='%1.1f%%',labels=['dark_queries','others'])"
      ],
      "execution_count": null,
      "outputs": [
        {
          "output_type": "execute_result",
          "data": {
            "text/plain": [
              "([<matplotlib.patches.Wedge at 0x7f96705ea8d0>,\n",
              "  <matplotlib.patches.Wedge at 0x7f96705ea4d0>],\n",
              " [Text(1.0120773233819933, 0.43092863851911756, 'dark_queries'),\n",
              "  Text(-1.0120773233819933, -0.43092863851911756, 'others')],\n",
              " [Text(0.5520421763901782, 0.23505198464679136, '12.8%'),\n",
              "  Text(-0.5520421763901782, -0.23505198464679136, '87.2%')])"
            ]
          },
          "metadata": {
            "tags": []
          },
          "execution_count": 55
        },
        {
          "output_type": "display_data",
          "data": {
            "image/png": "[encoded data removed]",
            "text/plain": [
              "<Figure size 432x288 with 1 Axes>"
            ]
          },
          "metadata": {
            "tags": []
          }
        }
      ]
    },
    {
      "cell_type": "code",
      "metadata": {
        "id": "PT5A-Ak-s0eG"
      },
      "source": [
        "del(df3)"
      ],
      "execution_count": null,
      "outputs": []
    },
    {
      "cell_type": "markdown",
      "metadata": {
        "id": "C0tPKGUouT35"
      },
      "source": [
        "#Problem 2 part b:"
      ]
    },
    {
      "cell_type": "code",
      "metadata": {
        "id": "lfQv9QcLueYT"
      },
      "source": [
        "df2=pd.DataFrame(pd.crosstab(df['source_event_id'],df['action']))"
      ],
      "execution_count": null,
      "outputs": []
    },
    {
      "cell_type": "code",
      "metadata": {
        "id": "X7co7eMOvmXg"
      },
      "source": [
        "bounce_queries=x=df2['click_post'][df2['click_post']==0].count()"
      ],
      "execution_count": null,
      "outputs": []
    },
    {
      "cell_type": "code",
      "metadata": {
        "id": "bbIQlxgyvzQ8"
      },
      "source": [
        "not_bounce_queries=df2['click_post'].count()-df2['click_post'][df2['click_post']==0].count()"
      ],
      "execution_count": null,
      "outputs": []
    },
    {
      "cell_type": "code",
      "metadata": {
        "colab": {
          "base_uri": "https://localhost:8080/",
          "height": 350
        },
        "id": "iR5-jR3sv7Uh",
        "outputId": "4a13bb77-e1b7-4b7c-b36c-50a28fa34810"
      },
      "source": [
        "plt.pie([bounce_queries,not_bounce_queries],labels=['bounce_queries','not_bounce_queries'],autopct='%1.1f%%')"
      ],
      "execution_count": null,
      "outputs": [
        {
          "output_type": "execute_result",
          "data": {
            "text/plain": [
              "([<matplotlib.patches.Wedge at 0x7f484ca161d0>,\n",
              "  <matplotlib.patches.Wedge at 0x7f484ca169d0>],\n",
              " [Text(0.7943867504668422, 0.7608874362760442, 'bounce_queries'),\n",
              "  Text(-0.794386750466842, -0.7608874362760443, 'not_bounce_queries')],\n",
              " [Text(0.4333018638910048, 0.41502951069602406, '24.3%'),\n",
              "  Text(-0.4333018638910047, -0.4150295106960241, '75.7%')])"
            ]
          },
          "metadata": {
            "tags": []
          },
          "execution_count": 35
        },
        {
          "output_type": "display_data",
          "data": {
            "image/png": "[encoded data removed]",
            "text/plain": [
              "<Figure size 432x288 with 1 Axes>"
            ]
          },
          "metadata": {
            "tags": []
          }
        }
      ]
    },
    {
      "cell_type": "markdown",
      "metadata": {
        "id": "8UtHNkMp1Efv"
      },
      "source": [
        "#Problem 3:"
      ]
    },
    {
      "cell_type": "markdown",
      "metadata": {
        "id": "11vpkrwY1JxO"
      },
      "source": [
        "# metric 1:"
      ]
    },
    {
      "cell_type": "markdown",
      "metadata": {
        "id": "4USzRIO81WAq"
      },
      "source": [
        "note this data frame is not complete , i mean we have queries which have only \"click\" action, so the load part is mised. infact it is imposible to have click without load, so the load part of this query is mised."
      ]
    },
    {
      "cell_type": "code",
      "metadata": {
        "id": "IXltHS9ov0vM"
      },
      "source": [
        "df_m1=pd.DataFrame(pd.crosstab(df['source_event_id'],df['action']))"
      ],
      "execution_count": null,
      "outputs": []
    },
    {
      "cell_type": "code",
      "metadata": {
        "id": "9q7OpSVv1dPE"
      },
      "source": [
        "def f_m1(x,y):\n",
        "  click_percent=((x)/(x+y))*100\n",
        "  return(click_percent)"
      ],
      "execution_count": null,
      "outputs": []
    },
    {
      "cell_type": "code",
      "metadata": {
        "id": "aYJRrdRG1ghn"
      },
      "source": [
        "df_m1['click_percent']=df_m1.apply(lambda x: f_m1(x['click_post'],x['load_post_page']),axis=1)"
      ],
      "execution_count": null,
      "outputs": []
    },
    {
      "cell_type": "code",
      "metadata": {
        "colab": {
          "base_uri": "https://localhost:8080/"
        },
        "id": "Ue2JsIKt1ipI",
        "outputId": "05826329-63cd-45e7-f431-67a9cf9abfbd"
      },
      "source": [
        "df_m1['click_percent'].mean()"
      ],
      "execution_count": null,
      "outputs": [
        {
          "output_type": "execute_result",
          "data": {
            "text/plain": [
              "58.0285877513876"
            ]
          },
          "metadata": {
            "tags": []
          },
          "execution_count": 83
        }
      ]
    },
    {
      "cell_type": "code",
      "metadata": {
        "colab": {
          "base_uri": "https://localhost:8080/",
          "height": 386
        },
        "id": "Sczdkk931l37",
        "outputId": "1b4ad347-1006-468d-f0aa-4621a1cc499d"
      },
      "source": [
        "sns.displot(df_m1['click_percent'])"
      ],
      "execution_count": null,
      "outputs": [
        {
          "output_type": "execute_result",
          "data": {
            "text/plain": [
              "<seaborn.axisgrid.FacetGrid at 0x7f966e7fab90>"
            ]
          },
          "metadata": {
            "tags": []
          },
          "execution_count": 85
        },
        {
          "output_type": "display_data",
          "data": {
            "image/png": "[encoded data removed]",
            "text/plain": [
              "<Figure size 360x360 with 1 Axes>"
            ]
          },
          "metadata": {
            "tags": [],
            "needs_background": "light"
          }
        }
      ]
    },
    {
      "cell_type": "markdown",
      "metadata": {
        "id": "qn-1Lq-b11pB"
      },
      "source": [
        "It is becouse the data frame is not complete, so can ignor the 100 percent part of datas, (queries with only click action and no load action) \n",
        "even with that assumption, this isnt a sharp distribution around the mean value."
      ]
    },
    {
      "cell_type": "code",
      "metadata": {
        "colab": {
          "base_uri": "https://localhost:8080/",
          "height": 351
        },
        "id": "IBefGhOY1wpt",
        "outputId": "a6a81d37-64be-4f25-9cc1-9c7988ce0ddc"
      },
      "source": [
        "sns.boxplot(df_m1['click_percent'])"
      ],
      "execution_count": null,
      "outputs": [
        {
          "output_type": "stream",
          "text": [
            "/usr/local/lib/python3.7/dist-packages/seaborn/_decorators.py:43: FutureWarning: Pass the following variable as a keyword arg: x. From version 0.12, the only valid positional argument will be `data`, and passing other arguments without an explicit keyword will result in an error or misinterpretation.\n",
            "  FutureWarning\n"
          ],
          "name": "stderr"
        },
        {
          "output_type": "execute_result",
          "data": {
            "text/plain": [
              "<matplotlib.axes._subplots.AxesSubplot at 0x7f965754e3d0>"
            ]
          },
          "metadata": {
            "tags": []
          },
          "execution_count": 86
        },
        {
          "output_type": "display_data",
          "data": {
            "image/png": "[encoded data removed]",
            "text/plain": [
              "<Figure size 432x288 with 1 Axes>"
            ]
          },
          "metadata": {
            "tags": [],
            "needs_background": "light"
          }
        }
      ]
    },
    {
      "cell_type": "markdown",
      "metadata": {
        "id": "SIaDDtpC7iEG"
      },
      "source": [
        "####َAtachment:"
      ]
    },
    {
      "cell_type": "markdown",
      "metadata": {
        "id": "y4jOB5kR7pMr"
      },
      "source": [
        "we first drop anly_click_queries, and then we repeat the calculations:"
      ]
    },
    {
      "cell_type": "code",
      "metadata": {
        "id": "K1BNvuCu7yz3"
      },
      "source": [
        "df_m1=pd.DataFrame(pd.crosstab(df['source_event_id'],df['action']))"
      ],
      "execution_count": null,
      "outputs": []
    },
    {
      "cell_type": "code",
      "metadata": {
        "id": "S3-HSZ668NW0"
      },
      "source": [
        "def f_m1(x,y):\n",
        "  click_percent=((x)/(x+y))*100\n",
        "  return(click_percent)"
      ],
      "execution_count": null,
      "outputs": []
    },
    {
      "cell_type": "code",
      "metadata": {
        "id": "4Im56T7p8VjP"
      },
      "source": [
        "df_m1['click_percent']=df_m1.apply(lambda x: f_m1(x['click_post'],x['load_post_page']),axis=1)"
      ],
      "execution_count": null,
      "outputs": []
    },
    {
      "cell_type": "code",
      "metadata": {
        "id": "j8aS67oW8a8n"
      },
      "source": [
        "df_m1b=df_m1[df_m1['click_percent']<100]"
      ],
      "execution_count": null,
      "outputs": []
    },
    {
      "cell_type": "code",
      "metadata": {
        "colab": {
          "base_uri": "https://localhost:8080/",
          "height": 386
        },
        "id": "fi-GnllN8r1D",
        "outputId": "9acd04ab-733c-4cb5-9656-d2ded5e270f8"
      },
      "source": [
        "sns.displot(df_m1b['click_percent'])"
      ],
      "execution_count": null,
      "outputs": [
        {
          "output_type": "execute_result",
          "data": {
            "text/plain": [
              "<seaborn.axisgrid.FacetGrid at 0x7f484ca32410>"
            ]
          },
          "metadata": {
            "tags": []
          },
          "execution_count": 41
        },
        {
          "output_type": "display_data",
          "data": {
            "image/png": "[encoded data removed]",
            "text/plain": [
              "<Figure size 360x360 with 1 Axes>"
            ]
          },
          "metadata": {
            "tags": [],
            "needs_background": "light"
          }
        }
      ]
    },
    {
      "cell_type": "code",
      "metadata": {
        "colab": {
          "base_uri": "https://localhost:8080/",
          "height": 351
        },
        "id": "UdFXeEr_86HL",
        "outputId": "5706ea90-bf63-4e80-e55e-703bfe861866"
      },
      "source": [
        "sns.boxplot(df_m1b['click_percent'])"
      ],
      "execution_count": null,
      "outputs": [
        {
          "output_type": "stream",
          "text": [
            "/usr/local/lib/python3.7/dist-packages/seaborn/_decorators.py:43: FutureWarning: Pass the following variable as a keyword arg: x. From version 0.12, the only valid positional argument will be `data`, and passing other arguments without an explicit keyword will result in an error or misinterpretation.\n",
            "  FutureWarning\n"
          ],
          "name": "stderr"
        },
        {
          "output_type": "execute_result",
          "data": {
            "text/plain": [
              "<matplotlib.axes._subplots.AxesSubplot at 0x7f484c910e90>"
            ]
          },
          "metadata": {
            "tags": []
          },
          "execution_count": 43
        },
        {
          "output_type": "display_data",
          "data": {
            "image/png": "[encoded data removed]",
            "text/plain": [
              "<Figure size 432x288 with 1 Axes>"
            ]
          },
          "metadata": {
            "tags": [],
            "needs_background": "light"
          }
        }
      ]
    },
    {
      "cell_type": "code",
      "metadata": {
        "colab": {
          "base_uri": "https://localhost:8080/"
        },
        "id": "kKx8AjdO9Cp1",
        "outputId": "2759479d-cf26-4fd4-ac69-b76462acf808"
      },
      "source": [
        "df_m1b['click_percent'].mean()"
      ],
      "execution_count": null,
      "outputs": [
        {
          "output_type": "execute_result",
          "data": {
            "text/plain": [
              "36.038449045287194"
            ]
          },
          "metadata": {
            "tags": []
          },
          "execution_count": 44
        }
      ]
    },
    {
      "cell_type": "code",
      "metadata": {
        "colab": {
          "base_uri": "https://localhost:8080/"
        },
        "id": "Nfgc-sWc9VeF",
        "outputId": "6c20ab30-0595-4b90-a15c-906da91aeb22"
      },
      "source": [
        "np.std(df_m1b['click_percent'])"
      ],
      "execution_count": null,
      "outputs": [
        {
          "output_type": "execute_result",
          "data": {
            "text/plain": [
              "31.485314852273692"
            ]
          },
          "metadata": {
            "tags": []
          },
          "execution_count": 46
        }
      ]
    },
    {
      "cell_type": "markdown",
      "metadata": {
        "id": "CbOuUGTA1_nm"
      },
      "source": [
        "##metric 2:"
      ]
    },
    {
      "cell_type": "code",
      "metadata": {
        "id": "E6NCel9j15Z6"
      },
      "source": [
        "df3=df[df['action']=='click_post'].copy()"
      ],
      "execution_count": null,
      "outputs": []
    },
    {
      "cell_type": "code",
      "metadata": {
        "id": "yNpslz8B2CWo"
      },
      "source": [
        "df3.drop(['action','created_at','device_id','post_page_offset','tokens','post_token'], axis=1, inplace=True)"
      ],
      "execution_count": null,
      "outputs": []
    },
    {
      "cell_type": "code",
      "metadata": {
        "colab": {
          "base_uri": "https://localhost:8080/"
        },
        "id": "LB8r5dY72E6_",
        "outputId": "a56a9e37-e2c9-4396-8482-e6c42da05531"
      },
      "source": [
        "df3.groupby('source_event_id').min().mean()"
      ],
      "execution_count": null,
      "outputs": [
        {
          "output_type": "execute_result",
          "data": {
            "text/plain": [
              "post_index_in_post_list    25.201571\n",
              "dtype: float64"
            ]
          },
          "metadata": {
            "tags": []
          },
          "execution_count": 49
        }
      ]
    },
    {
      "cell_type": "code",
      "metadata": {
        "colab": {
          "base_uri": "https://localhost:8080/"
        },
        "id": "EQgreERq94gW",
        "outputId": "0258aa87-6cee-4626-ee95-caf5350ed42b"
      },
      "source": [
        "np.std(df3.groupby('source_event_id').min())"
      ],
      "execution_count": null,
      "outputs": [
        {
          "output_type": "execute_result",
          "data": {
            "text/plain": [
              "post_index_in_post_list    105.116495\n",
              "dtype: float64"
            ]
          },
          "metadata": {
            "tags": []
          },
          "execution_count": 51
        }
      ]
    },
    {
      "cell_type": "code",
      "metadata": {
        "id": "VJz_3xkK2KCJ"
      },
      "source": [
        "m_2=pd.DataFrame(df3.groupby('source_event_id').min())"
      ],
      "execution_count": null,
      "outputs": []
    },
    {
      "cell_type": "code",
      "metadata": {
        "colab": {
          "base_uri": "https://localhost:8080/",
          "height": 386
        },
        "id": "ogqMLYE-2PQv",
        "outputId": "2ceac72c-c86a-4e64-b9e7-17d8e36153de"
      },
      "source": [
        "sns.displot(m_2['post_index_in_post_list'])"
      ],
      "execution_count": null,
      "outputs": [
        {
          "output_type": "execute_result",
          "data": {
            "text/plain": [
              "<seaborn.axisgrid.FacetGrid at 0x7f96574ba790>"
            ]
          },
          "metadata": {
            "tags": []
          },
          "execution_count": 91
        },
        {
          "output_type": "display_data",
          "data": {
            "image/png": "[encoded data removed]",
            "text/plain": [
              "<Figure size 360x360 with 1 Axes>"
            ]
          },
          "metadata": {
            "tags": [],
            "needs_background": "light"
          }
        }
      ]
    },
    {
      "cell_type": "code",
      "metadata": {
        "colab": {
          "base_uri": "https://localhost:8080/",
          "height": 351
        },
        "id": "RIyiAjHA2V8e",
        "outputId": "8db11ffe-0919-4770-d8c4-f3bd8294a6cb"
      },
      "source": [
        "sns.boxenplot(m_2['post_index_in_post_list'])"
      ],
      "execution_count": null,
      "outputs": [
        {
          "output_type": "stream",
          "text": [
            "/usr/local/lib/python3.7/dist-packages/seaborn/_decorators.py:43: FutureWarning: Pass the following variable as a keyword arg: x. From version 0.12, the only valid positional argument will be `data`, and passing other arguments without an explicit keyword will result in an error or misinterpretation.\n",
            "  FutureWarning\n"
          ],
          "name": "stderr"
        },
        {
          "output_type": "execute_result",
          "data": {
            "text/plain": [
              "<matplotlib.axes._subplots.AxesSubplot at 0x7f966fab5590>"
            ]
          },
          "metadata": {
            "tags": []
          },
          "execution_count": 92
        },
        {
          "output_type": "display_data",
          "data": {
            "image/png": "[encoded data removed]",
            "text/plain": [
              "<Figure size 432x288 with 1 Axes>"
            ]
          },
          "metadata": {
            "tags": [],
            "needs_background": "light"
          }
        }
      ]
    },
    {
      "cell_type": "markdown",
      "metadata": {
        "id": "kJHJmM272hKs"
      },
      "source": [
        "It is not a good metric unless we drop very high values. and still it doesnt have a sharp distribution"
      ]
    },
    {
      "cell_type": "markdown",
      "metadata": {
        "id": "vg2rnVH12lqZ"
      },
      "source": [
        "## metric 3:"
      ]
    },
    {
      "cell_type": "markdown",
      "metadata": {
        "id": "XCVJtR4S2oXe"
      },
      "source": [
        "we use some of the calculations of privious metric:"
      ]
    },
    {
      "cell_type": "code",
      "metadata": {
        "id": "JinvKkg42fY9"
      },
      "source": [
        "m_3=pd.DataFrame(df3.groupby('source_event_id').mean())"
      ],
      "execution_count": null,
      "outputs": []
    },
    {
      "cell_type": "code",
      "metadata": {
        "colab": {
          "base_uri": "https://localhost:8080/"
        },
        "id": "mgMi9GpZ208o",
        "outputId": "de7d7239-6251-45c3-b9f9-f6613d485114"
      },
      "source": [
        "m_3['post_index_in_post_list'].mean()"
      ],
      "execution_count": null,
      "outputs": [
        {
          "output_type": "execute_result",
          "data": {
            "text/plain": [
              "54.969111508628636"
            ]
          },
          "metadata": {
            "tags": []
          },
          "execution_count": 53
        }
      ]
    },
    {
      "cell_type": "code",
      "metadata": {
        "colab": {
          "base_uri": "https://localhost:8080/"
        },
        "id": "FlByUNhE-TLw",
        "outputId": "b142fa3f-a869-4dfa-fdea-72a7f2c6aa96"
      },
      "source": [
        "np.std(m_3['post_index_in_post_list'])"
      ],
      "execution_count": null,
      "outputs": [
        {
          "output_type": "execute_result",
          "data": {
            "text/plain": [
              "141.38599977438204"
            ]
          },
          "metadata": {
            "tags": []
          },
          "execution_count": 54
        }
      ]
    },
    {
      "cell_type": "code",
      "metadata": {
        "colab": {
          "base_uri": "https://localhost:8080/",
          "height": 386
        },
        "id": "QdEVRQUX2q-L",
        "outputId": "f2dcca40-fddb-4069-c0e9-ccfa9931ac3d"
      },
      "source": [
        "sns.displot(m_3['post_index_in_post_list'])"
      ],
      "execution_count": null,
      "outputs": [
        {
          "output_type": "execute_result",
          "data": {
            "text/plain": [
              "<seaborn.axisgrid.FacetGrid at 0x7f965537d750>"
            ]
          },
          "metadata": {
            "tags": []
          },
          "execution_count": 96
        },
        {
          "output_type": "display_data",
          "data": {
            "image/png": "[encoded data removed]",
            "text/plain": [
              "<Figure size 360x360 with 1 Axes>"
            ]
          },
          "metadata": {
            "tags": [],
            "needs_background": "light"
          }
        }
      ]
    },
    {
      "cell_type": "code",
      "metadata": {
        "colab": {
          "base_uri": "https://localhost:8080/",
          "height": 351
        },
        "id": "Zn3UKP7225h_",
        "outputId": "c920c9fb-f051-4d23-fdcb-9b4260a6b9f8"
      },
      "source": [
        "sns.boxenplot(m_3['post_index_in_post_list'])"
      ],
      "execution_count": null,
      "outputs": [
        {
          "output_type": "stream",
          "text": [
            "/usr/local/lib/python3.7/dist-packages/seaborn/_decorators.py:43: FutureWarning: Pass the following variable as a keyword arg: x. From version 0.12, the only valid positional argument will be `data`, and passing other arguments without an explicit keyword will result in an error or misinterpretation.\n",
            "  FutureWarning\n"
          ],
          "name": "stderr"
        },
        {
          "output_type": "execute_result",
          "data": {
            "text/plain": [
              "<matplotlib.axes._subplots.AxesSubplot at 0x7f965457f0d0>"
            ]
          },
          "metadata": {
            "tags": []
          },
          "execution_count": 97
        },
        {
          "output_type": "display_data",
          "data": {
            "image/png": "[encoded data removed]",
            "text/plain": [
              "<Figure size 432x288 with 1 Axes>"
            ]
          },
          "metadata": {
            "tags": [],
            "needs_background": "light"
          }
        }
      ]
    },
    {
      "cell_type": "markdown",
      "metadata": {
        "id": "QEz7P3XE3D2N"
      },
      "source": [
        " still s not very sharp around mean value"
      ]
    },
    {
      "cell_type": "markdown",
      "metadata": {
        "id": "GK-DnZ243Kxq"
      },
      "source": [
        "## metric 4:"
      ]
    },
    {
      "cell_type": "code",
      "metadata": {
        "id": "7DdWpl8n3N5R"
      },
      "source": [
        "test=pd.DataFrame(pd.crosstab(df3['source_event_id'],df['post_index_in_post_list']))"
      ],
      "execution_count": null,
      "outputs": []
    },
    {
      "cell_type": "code",
      "metadata": {
        "id": "9SxFDHnw3ONh"
      },
      "source": [
        "m_4=pd.DataFrame(test[[1,2,3]].copy())"
      ],
      "execution_count": null,
      "outputs": []
    },
    {
      "cell_type": "code",
      "metadata": {
        "id": "hBPl8_ak3TeS"
      },
      "source": [
        "del(test)"
      ],
      "execution_count": null,
      "outputs": []
    },
    {
      "cell_type": "code",
      "metadata": {
        "id": "vLsqhovL3Tym"
      },
      "source": [
        "def f_m4(x,y,z):\n",
        "  if(x+y+z)!=0:\n",
        "    return(1)\n",
        "  else:\n",
        "    return(0)"
      ],
      "execution_count": null,
      "outputs": []
    },
    {
      "cell_type": "code",
      "metadata": {
        "id": "QCJLnYz13VbD"
      },
      "source": [
        "m_4['metric_4']=m_4.apply(lambda x: f_m4(x[1],x[2],x[3]),axis=1)"
      ],
      "execution_count": null,
      "outputs": []
    },
    {
      "cell_type": "code",
      "metadata": {
        "colab": {
          "base_uri": "https://localhost:8080/"
        },
        "id": "_ZqzwGdXGeHo",
        "outputId": "28b545ec-b7e4-4dab-e5b5-09a94818c63e"
      },
      "source": [
        "m_4['metric_4'].mean()"
      ],
      "execution_count": null,
      "outputs": [
        {
          "output_type": "execute_result",
          "data": {
            "text/plain": [
              "0.4678373382624769"
            ]
          },
          "metadata": {
            "tags": []
          },
          "execution_count": 60
        }
      ]
    },
    {
      "cell_type": "code",
      "metadata": {
        "colab": {
          "base_uri": "https://localhost:8080/",
          "height": 386
        },
        "id": "YQeXs5Wb3XnU",
        "outputId": "e8a8e14d-036c-41d4-c343-cd696d6fbfb5"
      },
      "source": [
        "sns.displot(m_4['metric_4'])"
      ],
      "execution_count": null,
      "outputs": [
        {
          "output_type": "execute_result",
          "data": {
            "text/plain": [
              "<seaborn.axisgrid.FacetGrid at 0x7f9654db81d0>"
            ]
          },
          "metadata": {
            "tags": []
          },
          "execution_count": 108
        },
        {
          "output_type": "display_data",
          "data": {
            "image/png": "[encoded data removed]",
            "text/plain": [
              "<Figure size 360x360 with 1 Axes>"
            ]
          },
          "metadata": {
            "tags": [],
            "needs_background": "light"
          }
        }
      ]
    },
    {
      "cell_type": "code",
      "metadata": {
        "colab": {
          "base_uri": "https://localhost:8080/",
          "height": 350
        },
        "id": "MBIDEEm-3nlK",
        "outputId": "a2a3e0f9-13c8-4f99-caa9-332aca486c69"
      },
      "source": [
        "x=len(m_4[m_4['metric_4']==1])\n",
        "y=len(m_4[m_4['metric_4']==0])\n",
        "plt.pie([x,y],labels=['queres with click in first 3 result','others'],autopct='%1.1f%%')"
      ],
      "execution_count": null,
      "outputs": [
        {
          "output_type": "execute_result",
          "data": {
            "text/plain": [
              "([<matplotlib.patches.Wedge at 0x7f9654370250>,\n",
              "  <matplotlib.patches.Wedge at 0x7f9654370a50>],\n",
              " [Text(0.1109571681395851, 1.0943895589955361, 'queres with click in first 3 result'),\n",
              "  Text(-0.11095716813958498, -1.0943895589955361, 'others')],\n",
              " [Text(0.06052209171250096, 0.5969397594521105, '46.8%'),\n",
              "  Text(-0.06052209171250089, -0.5969397594521105, '53.2%')])"
            ]
          },
          "metadata": {
            "tags": []
          },
          "execution_count": 109
        },
        {
          "output_type": "display_data",
          "data": {
            "image/png": "[encoded data removed]",
            "text/plain": [
              "<Figure size 432x288 with 1 Axes>"
            ]
          },
          "metadata": {
            "tags": []
          }
        }
      ]
    },
    {
      "cell_type": "markdown",
      "metadata": {
        "id": "j4e2AknI3zoW"
      },
      "source": [
        "this metric shows the \"queries with good results\", but it gives no other information, for example how bad results are distributed."
      ]
    },
    {
      "cell_type": "code",
      "metadata": {
        "id": "QjXbHFgr3tGf"
      },
      "source": [
        ""
      ],
      "execution_count": null,
      "outputs": []
    }
  ]
}